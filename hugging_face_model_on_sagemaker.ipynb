{
  "nbformat": 4,
  "nbformat_minor": 0,
  "metadata": {
    "colab": {
      "provenance": [],
      "toc_visible": true,
      "authorship_tag": "ABX9TyPQJm18E9tABoaG/L/H8Im+",
      "include_colab_link": true
    },
    "kernelspec": {
      "name": "python3",
      "display_name": "Python 3"
    },
    "language_info": {
      "name": "python"
    }
  },
  "cells": [
    {
      "cell_type": "markdown",
      "metadata": {
        "id": "view-in-github",
        "colab_type": "text"
      },
      "source": [
        "<a href=\"https://colab.research.google.com/github/josejailson/hugging_face/blob/main/hugging_face_model_on_sagemaker.ipynb\" target=\"_parent\"><img src=\"https://colab.research.google.com/assets/colab-badge.svg\" alt=\"Open In Colab\"/></a>"
      ]
    },
    {
      "cell_type": "markdown",
      "source": [
        "# About the model"
      ],
      "metadata": {
        "id": "WbYvKF87a6K8"
      }
    },
    {
      "cell_type": "markdown",
      "source": [
        "Hugging Face is a community and data science platform wich provides tools tha unable users to build, train and deploy ML models based on open source code and technologies."
      ],
      "metadata": {
        "id": "8i9PaQxdb6dD"
      }
    },
    {
      "cell_type": "markdown",
      "source": [
        "The model we'll use here is *distilbert-base-uncased-finetuned-sst-2-english*, an English text classification based on the DistilBERT.\n",
        "By the way, DistilBERT is a transformer model, smaller and faster than BERT. It was pretrained on the same corpus and used the BERT base model as a teacher.\n",
        "For more information, this model is hosted at https://huggingface.co/distilbert-base-uncased-finetuned-sst-2-english."
      ],
      "metadata": {
        "id": "SEBQh2E3cQLE"
      }
    },
    {
      "cell_type": "markdown",
      "source": [
        "So, let's introduce the model."
      ],
      "metadata": {
        "id": "QuYRrGU1fkZ9"
      }
    },
    {
      "cell_type": "code",
      "source": [
        "%pip install huggingface_hub --quiet\n",
        "%pip install transformers --quiet"
      ],
      "metadata": {
        "colab": {
          "base_uri": "https://localhost:8080/"
        },
        "id": "NHBm0kR6eOv0",
        "outputId": "b68a90eb-29f9-4cc3-85d0-175b99344ae3"
      },
      "execution_count": 1,
      "outputs": [
        {
          "output_type": "stream",
          "name": "stdout",
          "text": [
            "\u001b[2K     \u001b[90m━━━━━━━━━━━━━━━━━━━━━━━━━━━━━━━━━━━━━━━\u001b[0m \u001b[32m268.8/268.8 kB\u001b[0m \u001b[31m8.7 MB/s\u001b[0m eta \u001b[36m0:00:00\u001b[0m\n",
            "\u001b[2K     \u001b[90m━━━━━━━━━━━━━━━━━━━━━━━━━━━━━━━━━━━━━━━━\u001b[0m \u001b[32m7.2/7.2 MB\u001b[0m \u001b[31m69.5 MB/s\u001b[0m eta \u001b[36m0:00:00\u001b[0m\n",
            "\u001b[2K     \u001b[90m━━━━━━━━━━━━━━━━━━━━━━━━━━━━━━━━━━━━━━━━\u001b[0m \u001b[32m7.8/7.8 MB\u001b[0m \u001b[31m89.7 MB/s\u001b[0m eta \u001b[36m0:00:00\u001b[0m\n",
            "\u001b[2K     \u001b[90m━━━━━━━━━━━━━━━━━━━━━━━━━━━━━━━━━━━━━━━━\u001b[0m \u001b[32m1.3/1.3 MB\u001b[0m \u001b[31m70.8 MB/s\u001b[0m eta \u001b[36m0:00:00\u001b[0m\n",
            "\u001b[?25h"
          ]
        }
      ]
    },
    {
      "cell_type": "code",
      "source": [
        "from transformers import AutoTokenizer, AutoModelForSequenceClassification\n",
        "from transformers import TextClassificationPipeline\n",
        "\n",
        "\n",
        "tokenizer = AutoTokenizer.from_pretrained(\"distilbert-base-uncased-finetuned-sst-2-english\")\n",
        "\n",
        "model = AutoModelForSequenceClassification.from_pretrained(\"distilbert-base-uncased-finetuned-sst-2-english\")\n",
        "\n",
        "pipe = TextClassificationPipeline(model=model, tokenizer=tokenizer, return_all_scores=True)"
      ],
      "metadata": {
        "id": "4wq2NAhaa7gz"
      },
      "execution_count": null,
      "outputs": []
    },
    {
      "cell_type": "markdown",
      "source": [
        "Here is the sentiment analysis of the model on the phrase \"I love Amazon SageMaker Studio Lab!\":"
      ],
      "metadata": {
        "id": "ISZXpBHhervN"
      }
    },
    {
      "cell_type": "code",
      "source": [
        "pipe(\"A love Amazon SageMaker Studio Lab!\")"
      ],
      "metadata": {
        "id": "7S-6RSj8esJ0"
      },
      "execution_count": null,
      "outputs": []
    },
    {
      "cell_type": "markdown",
      "source": [
        "# Set up the pre-requisitions"
      ],
      "metadata": {
        "id": "JiovWbP-a717"
      }
    },
    {
      "cell_type": "markdown",
      "source": [
        "For start, we must install AWS CLI, boto3 and configure the AWS credentials."
      ],
      "metadata": {
        "id": "NwWuD-Htf6Dr"
      }
    },
    {
      "cell_type": "code",
      "source": [
        "%pip install boto3 --quiet"
      ],
      "metadata": {
        "colab": {
          "base_uri": "https://localhost:8080/"
        },
        "id": "c9_EdxQCf7nl",
        "outputId": "0aa7af45-86d7-4ea8-b261-a0ec6b1b5afd"
      },
      "execution_count": 4,
      "outputs": [
        {
          "output_type": "stream",
          "name": "stdout",
          "text": [
            "Installing collected packages: jmespath, botocore, s3transfer, boto3\n",
            "Successfully installed boto3-1.28.0 botocore-1.31.0 jmespath-1.0.1 s3transfer-0.6.1\n"
          ]
        }
      ]
    },
    {
      "cell_type": "code",
      "source": [
        "%pip install awscli  --quiet"
      ],
      "metadata": {
        "colab": {
          "base_uri": "https://localhost:8080/"
        },
        "id": "-q1NUtcMf-Kk",
        "outputId": "c4437914-d745-40e8-ca05-db09d9d8a29d"
      },
      "execution_count": 5,
      "outputs": [
        {
          "output_type": "stream",
          "name": "stdout",
          "text": [
            "\u001b[2K     \u001b[90m━━━━━━━━━━━━━━━━━━━━━━━━━━━━━━━━━━━━━━━━\u001b[0m \u001b[32m4.1/4.1 MB\u001b[0m \u001b[31m52.9 MB/s\u001b[0m eta \u001b[36m0:00:00\u001b[0m\n",
            "\u001b[2K     \u001b[90m━━━━━━━━━━━━━━━━━━━━━━━━━━━━━━━━━━━━━━\u001b[0m \u001b[32m175.1/175.1 kB\u001b[0m \u001b[31m18.5 MB/s\u001b[0m eta \u001b[36m0:00:00\u001b[0m\n",
            "\u001b[?25h  Installing build dependencies ... \u001b[?25l\u001b[?25hdone\n",
            "  Getting requirements to build wheel ... \u001b[?25l\u001b[?25hdone\n",
            "  Preparing metadata (pyproject.toml) ... \u001b[?25l\u001b[?25hdone\n",
            "  Building wheel for PyYAML (pyproject.toml) ... \u001b[?25l\u001b[?25hdone\n"
          ]
        }
      ]
    },
    {
      "cell_type": "code",
      "source": [
        "%mkdir ~/.aws"
      ],
      "metadata": {
        "id": "507LqGqlgBKk"
      },
      "execution_count": 6,
      "outputs": []
    },
    {
      "cell_type": "code",
      "source": [
        "%%writefile ~/.aws/credentials\n",
        "\n",
        "[default]\n",
        "aws_access_key_id =\n",
        "aws_secret_access_key ="
      ],
      "metadata": {
        "colab": {
          "base_uri": "https://localhost:8080/"
        },
        "id": "Mdsx2pYrgK_E",
        "outputId": "bb7d692d-a9ba-4013-8814-9f0e5d9f0275"
      },
      "execution_count": 7,
      "outputs": [
        {
          "output_type": "stream",
          "name": "stdout",
          "text": [
            "Writing /root/.aws/credentials\n"
          ]
        }
      ]
    },
    {
      "cell_type": "code",
      "source": [
        "%%writefile ~/.aws/config\n",
        "\n",
        "[default]\n",
        "region=us-east-1"
      ],
      "metadata": {
        "colab": {
          "base_uri": "https://localhost:8080/"
        },
        "id": "Op_PiSshgRR8",
        "outputId": "b4ce75b5-919e-4947-da9b-68ff790394e3"
      },
      "execution_count": 8,
      "outputs": [
        {
          "output_type": "stream",
          "name": "stdout",
          "text": [
            "Writing /root/.aws/config\n"
          ]
        }
      ]
    },
    {
      "cell_type": "markdown",
      "source": [
        "A additional step is create a SageMake IAM Execution Role, in order to grant permissions."
      ],
      "metadata": {
        "id": "7jUDS9d6hnIc"
      }
    },
    {
      "cell_type": "code",
      "source": [
        "role = \"arn:aws:iam::875652382423:role/service-role/AmazonSageMakerServiceCatalogProductsExecutionRole\""
      ],
      "metadata": {
        "id": "aNNEBdkah-2k"
      },
      "execution_count": 27,
      "outputs": []
    },
    {
      "cell_type": "markdown",
      "source": [
        "# Connecting to AWS using boto3"
      ],
      "metadata": {
        "id": "XinJbKi6bF50"
      }
    },
    {
      "cell_type": "markdown",
      "source": [
        "Since our credentials are in the source .aws, connect to AWS is straightforward."
      ],
      "metadata": {
        "id": "lwylI1_GBkeN"
      }
    },
    {
      "cell_type": "code",
      "source": [
        "import boto3\n",
        "\n",
        "sm_client = boto3.client(\"sagemaker\")\n",
        "response = sm_client.list_endpoints()\n",
        "\n",
        "len(response)"
      ],
      "metadata": {
        "colab": {
          "base_uri": "https://localhost:8080/"
        },
        "id": "K9z8n-r9iDMr",
        "outputId": "f72e6e39-601d-441e-e1fc-e8bdaa3ff735"
      },
      "execution_count": 11,
      "outputs": [
        {
          "output_type": "execute_result",
          "data": {
            "text/plain": [
              "2"
            ]
          },
          "metadata": {},
          "execution_count": 11
        }
      ]
    },
    {
      "cell_type": "markdown",
      "source": [
        "For traking actions on AWS, it's a good ideia name the model and the endpoint with the data when they were created."
      ],
      "metadata": {
        "id": "XBEvSGleBTZU"
      }
    },
    {
      "cell_type": "code",
      "source": [
        "import time\n",
        "\n",
        "ml_model_name = \"text-classification-hugging-face\"\n",
        "timestamp = time.strftime('-%Y-%m-%d-%H-%M-%S', time.gmtime())\n",
        "model_name = ml_model_name + '-model' + timestamp\n",
        "endpoint_config_name = ml_model_name + \"-epc\" + timestamp\n",
        "print(model_name)\n",
        "print(endpoint_config_name)"
      ],
      "metadata": {
        "colab": {
          "base_uri": "https://localhost:8080/"
        },
        "id": "0UqcpxyiiSz8",
        "outputId": "b078c47e-c9b2-4159-c547-83e1eb458f9d"
      },
      "execution_count": 12,
      "outputs": [
        {
          "output_type": "stream",
          "name": "stdout",
          "text": [
            "text-classification-hugging-face-model-2023-07-07-15-53-02\n",
            "text-classification-hugging-face-epc-2023-07-07-15-53-02\n"
          ]
        }
      ]
    },
    {
      "cell_type": "markdown",
      "source": [
        "# Creating a model with SageMaker Client"
      ],
      "metadata": {
        "id": "0UfhjLjybPGV"
      }
    },
    {
      "cell_type": "markdown",
      "source": [
        "The core component of this code is the container_config dictionary, where all model is created."
      ],
      "metadata": {
        "id": "HdBWrDfKCECL"
      }
    },
    {
      "cell_type": "code",
      "source": [
        "model_data_url = \"763104351884.dkr.ecr.us-east-1.amazonaws.com/huggingface-pytorch-inference:1.9-transformers4.12-cpu-py38-ubuntu20.04\"\n",
        "\n",
        "container_config = {\"Image\": model_data_url,\n",
        "                    \"Mode\": \"SingleModel\",\n",
        "                    \"Environment\": {\n",
        "                        \"HF_MODEL_ID\": \"distilbert-base-uncased-finetuned-sst-2-english\",\n",
        "                        \"HF_TASK\": \"text-classification\",\n",
        "                        \"SAGEMAKER_CONTAINER_LOG_LEVEL\": \"20\",\n",
        "                        \"SAGEMAKER_REGION\": \"us-east-1\"\n",
        "                    }\n",
        "                    }\n",
        "\n",
        "response = sm_client.create_model(\n",
        "    ModelName=model_name,\n",
        "    PrimaryContainer=container_config,\n",
        "    ExecutionRoleArn=role,\n",
        "    EnableNetworkIsolation=False\n",
        ")"
      ],
      "metadata": {
        "id": "oyCPQc3tigcc"
      },
      "execution_count": 28,
      "outputs": []
    },
    {
      "cell_type": "markdown",
      "source": [
        "# Creating a serveless endpoint configuration"
      ],
      "metadata": {
        "id": "o90pcL8pbWMO"
      }
    },
    {
      "cell_type": "code",
      "source": [
        "endpoint_config_response = sm_client.create_endpoint_config(\n",
        "    EndpointConfigName=endpoint_config_name,\n",
        "    ProductionVariants=[\n",
        "        {\n",
        "            \"ModelName\": model_name,\n",
        "            \"VariantName\": \"AllTraffic\",\n",
        "            \"ServerlessConfig\": {\n",
        "                \"MemorySizeInMB\": 3072,\n",
        "                \"MaxConcurrency\": 10\n",
        "            }\n",
        "        }\n",
        "    ]\n",
        ")\n",
        "\n"
      ],
      "metadata": {
        "colab": {
          "base_uri": "https://localhost:8080/",
          "height": 416
        },
        "id": "2MXQpkg4ixek",
        "outputId": "0ef5dd59-8555-488f-984d-834879199ec0"
      },
      "execution_count": 33,
      "outputs": [
        {
          "output_type": "error",
          "ename": "ClientError",
          "evalue": "ignored",
          "traceback": [
            "\u001b[0;31m---------------------------------------------------------------------------\u001b[0m",
            "\u001b[0;31mClientError\u001b[0m                               Traceback (most recent call last)",
            "\u001b[0;32m<ipython-input-33-d6eca0f7ba88>\u001b[0m in \u001b[0;36m<cell line: 1>\u001b[0;34m()\u001b[0m\n\u001b[0;32m----> 1\u001b[0;31m endpoint_config_response = sm_client.create_endpoint_config(\n\u001b[0m\u001b[1;32m      2\u001b[0m     \u001b[0mEndpointConfigName\u001b[0m\u001b[0;34m=\u001b[0m\u001b[0mendpoint_config_name\u001b[0m\u001b[0;34m,\u001b[0m\u001b[0;34m\u001b[0m\u001b[0;34m\u001b[0m\u001b[0m\n\u001b[1;32m      3\u001b[0m     ProductionVariants=[\n\u001b[1;32m      4\u001b[0m         {\n\u001b[1;32m      5\u001b[0m             \u001b[0;34m\"ModelName\"\u001b[0m\u001b[0;34m:\u001b[0m \u001b[0mmodel_name\u001b[0m\u001b[0;34m,\u001b[0m\u001b[0;34m\u001b[0m\u001b[0;34m\u001b[0m\u001b[0m\n",
            "\u001b[0;32m/usr/local/lib/python3.10/dist-packages/botocore/client.py\u001b[0m in \u001b[0;36m_api_call\u001b[0;34m(self, *args, **kwargs)\u001b[0m\n\u001b[1;32m    532\u001b[0m                 )\n\u001b[1;32m    533\u001b[0m             \u001b[0;31m# The \"self\" in this scope is referring to the BaseClient.\u001b[0m\u001b[0;34m\u001b[0m\u001b[0;34m\u001b[0m\u001b[0m\n\u001b[0;32m--> 534\u001b[0;31m             \u001b[0;32mreturn\u001b[0m \u001b[0mself\u001b[0m\u001b[0;34m.\u001b[0m\u001b[0m_make_api_call\u001b[0m\u001b[0;34m(\u001b[0m\u001b[0moperation_name\u001b[0m\u001b[0;34m,\u001b[0m \u001b[0mkwargs\u001b[0m\u001b[0;34m)\u001b[0m\u001b[0;34m\u001b[0m\u001b[0;34m\u001b[0m\u001b[0m\n\u001b[0m\u001b[1;32m    535\u001b[0m \u001b[0;34m\u001b[0m\u001b[0m\n\u001b[1;32m    536\u001b[0m         \u001b[0m_api_call\u001b[0m\u001b[0;34m.\u001b[0m\u001b[0m__name__\u001b[0m \u001b[0;34m=\u001b[0m \u001b[0mstr\u001b[0m\u001b[0;34m(\u001b[0m\u001b[0mpy_operation_name\u001b[0m\u001b[0;34m)\u001b[0m\u001b[0;34m\u001b[0m\u001b[0;34m\u001b[0m\u001b[0m\n",
            "\u001b[0;32m/usr/local/lib/python3.10/dist-packages/botocore/client.py\u001b[0m in \u001b[0;36m_make_api_call\u001b[0;34m(self, operation_name, api_params)\u001b[0m\n\u001b[1;32m    974\u001b[0m             \u001b[0merror_code\u001b[0m \u001b[0;34m=\u001b[0m \u001b[0mparsed_response\u001b[0m\u001b[0;34m.\u001b[0m\u001b[0mget\u001b[0m\u001b[0;34m(\u001b[0m\u001b[0;34m\"Error\"\u001b[0m\u001b[0;34m,\u001b[0m \u001b[0;34m{\u001b[0m\u001b[0;34m}\u001b[0m\u001b[0;34m)\u001b[0m\u001b[0;34m.\u001b[0m\u001b[0mget\u001b[0m\u001b[0;34m(\u001b[0m\u001b[0;34m\"Code\"\u001b[0m\u001b[0;34m)\u001b[0m\u001b[0;34m\u001b[0m\u001b[0;34m\u001b[0m\u001b[0m\n\u001b[1;32m    975\u001b[0m             \u001b[0merror_class\u001b[0m \u001b[0;34m=\u001b[0m \u001b[0mself\u001b[0m\u001b[0;34m.\u001b[0m\u001b[0mexceptions\u001b[0m\u001b[0;34m.\u001b[0m\u001b[0mfrom_code\u001b[0m\u001b[0;34m(\u001b[0m\u001b[0merror_code\u001b[0m\u001b[0;34m)\u001b[0m\u001b[0;34m\u001b[0m\u001b[0;34m\u001b[0m\u001b[0m\n\u001b[0;32m--> 976\u001b[0;31m             \u001b[0;32mraise\u001b[0m \u001b[0merror_class\u001b[0m\u001b[0;34m(\u001b[0m\u001b[0mparsed_response\u001b[0m\u001b[0;34m,\u001b[0m \u001b[0moperation_name\u001b[0m\u001b[0;34m)\u001b[0m\u001b[0;34m\u001b[0m\u001b[0;34m\u001b[0m\u001b[0m\n\u001b[0m\u001b[1;32m    977\u001b[0m         \u001b[0;32melse\u001b[0m\u001b[0;34m:\u001b[0m\u001b[0;34m\u001b[0m\u001b[0;34m\u001b[0m\u001b[0m\n\u001b[1;32m    978\u001b[0m             \u001b[0;32mreturn\u001b[0m \u001b[0mparsed_response\u001b[0m\u001b[0;34m\u001b[0m\u001b[0;34m\u001b[0m\u001b[0m\n",
            "\u001b[0;31mClientError\u001b[0m: An error occurred (ValidationException) when calling the CreateEndpointConfig operation: Cannot create already existing endpoint configuration \"arn:aws:sagemaker:us-east-1:875652382423:endpoint-config/text-classification-hugging-face-epc-2023-07-07-15-53-02\"."
          ]
        }
      ]
    },
    {
      "cell_type": "code",
      "source": [
        "endpoint_name = \"studio-lab-ep\" + '-epc' + timestamp\n"
      ],
      "metadata": {
        "id": "o8p-22SQHIPv"
      },
      "execution_count": 36,
      "outputs": []
    },
    {
      "cell_type": "code",
      "source": [
        "endpoint_name"
      ],
      "metadata": {
        "colab": {
          "base_uri": "https://localhost:8080/",
          "height": 35
        },
        "id": "k-c-6Z8hH2Kk",
        "outputId": "0ac7085c-5a44-4de5-c545-ecfbcf0c7fc1"
      },
      "execution_count": 37,
      "outputs": [
        {
          "output_type": "execute_result",
          "data": {
            "text/plain": [
              "'studio-lab-ep-epc-2023-07-07-15-53-02'"
            ],
            "application/vnd.google.colaboratory.intrinsic+json": {
              "type": "string"
            }
          },
          "metadata": {},
          "execution_count": 37
        }
      ]
    },
    {
      "cell_type": "code",
      "source": [
        "response = sm_client.create_endpoint(\n",
        "    EndpointName=endpoint_name,\n",
        "    EndpointConfigName=endpoint_config_name\n",
        ")"
      ],
      "metadata": {
        "id": "09yxoJZSH088"
      },
      "execution_count": null,
      "outputs": []
    },
    {
      "cell_type": "markdown",
      "source": [
        "# Testing the model"
      ],
      "metadata": {
        "id": "qtQqGgxoba7r"
      }
    },
    {
      "cell_type": "code",
      "source": [
        "import json\n",
        "import boto3\n",
        "\n",
        "runtime = boto3.client(\"sagemaker-runtime\")\n",
        "\n",
        "content_type = \"application/json\"\n",
        "\n",
        "data = {\n",
        "    \"inputs\": \"Happy Birthday to you!\"\n",
        "}\n",
        "\n",
        "response = runtime.invoke_endpoint(\n",
        "    EndpointName=endpoint_name,\n",
        "    ContentType=content_type,\n",
        "    Body=json.dumps(data)\n",
        ")"
      ],
      "metadata": {
        "colab": {
          "base_uri": "https://localhost:8080/",
          "height": 398
        },
        "id": "7JJ6i6YMi0ML",
        "outputId": "e7597dc3-22f1-4d56-c0e2-481755735750"
      },
      "execution_count": 35,
      "outputs": [
        {
          "output_type": "error",
          "ename": "ValidationError",
          "evalue": "ignored",
          "traceback": [
            "\u001b[0;31m---------------------------------------------------------------------------\u001b[0m",
            "\u001b[0;31mValidationError\u001b[0m                           Traceback (most recent call last)",
            "\u001b[0;32m<ipython-input-35-667bc81cd4ac>\u001b[0m in \u001b[0;36m<cell line: 12>\u001b[0;34m()\u001b[0m\n\u001b[1;32m     10\u001b[0m }\n\u001b[1;32m     11\u001b[0m \u001b[0;34m\u001b[0m\u001b[0m\n\u001b[0;32m---> 12\u001b[0;31m response = runtime.invoke_endpoint(\n\u001b[0m\u001b[1;32m     13\u001b[0m     \u001b[0mEndpointName\u001b[0m\u001b[0;34m=\u001b[0m\u001b[0mendpoint_name\u001b[0m\u001b[0;34m,\u001b[0m\u001b[0;34m\u001b[0m\u001b[0;34m\u001b[0m\u001b[0m\n\u001b[1;32m     14\u001b[0m     \u001b[0mContentType\u001b[0m\u001b[0;34m=\u001b[0m\u001b[0mcontent_type\u001b[0m\u001b[0;34m,\u001b[0m\u001b[0;34m\u001b[0m\u001b[0;34m\u001b[0m\u001b[0m\n",
            "\u001b[0;32m/usr/local/lib/python3.10/dist-packages/botocore/client.py\u001b[0m in \u001b[0;36m_api_call\u001b[0;34m(self, *args, **kwargs)\u001b[0m\n\u001b[1;32m    532\u001b[0m                 )\n\u001b[1;32m    533\u001b[0m             \u001b[0;31m# The \"self\" in this scope is referring to the BaseClient.\u001b[0m\u001b[0;34m\u001b[0m\u001b[0;34m\u001b[0m\u001b[0m\n\u001b[0;32m--> 534\u001b[0;31m             \u001b[0;32mreturn\u001b[0m \u001b[0mself\u001b[0m\u001b[0;34m.\u001b[0m\u001b[0m_make_api_call\u001b[0m\u001b[0;34m(\u001b[0m\u001b[0moperation_name\u001b[0m\u001b[0;34m,\u001b[0m \u001b[0mkwargs\u001b[0m\u001b[0;34m)\u001b[0m\u001b[0;34m\u001b[0m\u001b[0;34m\u001b[0m\u001b[0m\n\u001b[0m\u001b[1;32m    535\u001b[0m \u001b[0;34m\u001b[0m\u001b[0m\n\u001b[1;32m    536\u001b[0m         \u001b[0m_api_call\u001b[0m\u001b[0;34m.\u001b[0m\u001b[0m__name__\u001b[0m \u001b[0;34m=\u001b[0m \u001b[0mstr\u001b[0m\u001b[0;34m(\u001b[0m\u001b[0mpy_operation_name\u001b[0m\u001b[0;34m)\u001b[0m\u001b[0;34m\u001b[0m\u001b[0;34m\u001b[0m\u001b[0m\n",
            "\u001b[0;32m/usr/local/lib/python3.10/dist-packages/botocore/client.py\u001b[0m in \u001b[0;36m_make_api_call\u001b[0;34m(self, operation_name, api_params)\u001b[0m\n\u001b[1;32m    974\u001b[0m             \u001b[0merror_code\u001b[0m \u001b[0;34m=\u001b[0m \u001b[0mparsed_response\u001b[0m\u001b[0;34m.\u001b[0m\u001b[0mget\u001b[0m\u001b[0;34m(\u001b[0m\u001b[0;34m\"Error\"\u001b[0m\u001b[0;34m,\u001b[0m \u001b[0;34m{\u001b[0m\u001b[0;34m}\u001b[0m\u001b[0;34m)\u001b[0m\u001b[0;34m.\u001b[0m\u001b[0mget\u001b[0m\u001b[0;34m(\u001b[0m\u001b[0;34m\"Code\"\u001b[0m\u001b[0;34m)\u001b[0m\u001b[0;34m\u001b[0m\u001b[0;34m\u001b[0m\u001b[0m\n\u001b[1;32m    975\u001b[0m             \u001b[0merror_class\u001b[0m \u001b[0;34m=\u001b[0m \u001b[0mself\u001b[0m\u001b[0;34m.\u001b[0m\u001b[0mexceptions\u001b[0m\u001b[0;34m.\u001b[0m\u001b[0mfrom_code\u001b[0m\u001b[0;34m(\u001b[0m\u001b[0merror_code\u001b[0m\u001b[0;34m)\u001b[0m\u001b[0;34m\u001b[0m\u001b[0;34m\u001b[0m\u001b[0m\n\u001b[0;32m--> 976\u001b[0;31m             \u001b[0;32mraise\u001b[0m \u001b[0merror_class\u001b[0m\u001b[0;34m(\u001b[0m\u001b[0mparsed_response\u001b[0m\u001b[0;34m,\u001b[0m \u001b[0moperation_name\u001b[0m\u001b[0;34m)\u001b[0m\u001b[0;34m\u001b[0m\u001b[0;34m\u001b[0m\u001b[0m\n\u001b[0m\u001b[1;32m    977\u001b[0m         \u001b[0;32melse\u001b[0m\u001b[0;34m:\u001b[0m\u001b[0;34m\u001b[0m\u001b[0;34m\u001b[0m\u001b[0m\n\u001b[1;32m    978\u001b[0m             \u001b[0;32mreturn\u001b[0m \u001b[0mparsed_response\u001b[0m\u001b[0;34m\u001b[0m\u001b[0;34m\u001b[0m\u001b[0m\n",
            "\u001b[0;31mValidationError\u001b[0m: An error occurred (ValidationError) when calling the InvokeEndpoint operation: Endpoint studio-lab-ep-epc-2023-07-07-15-53-02 of account 875652382423 not found."
          ]
        }
      ]
    },
    {
      "cell_type": "code",
      "source": [
        "response[\"Body\"].read().decode()"
      ],
      "metadata": {
        "id": "WkHXbEVCjCc8"
      },
      "execution_count": null,
      "outputs": []
    },
    {
      "cell_type": "markdown",
      "source": [
        "# Deleting the model, the endpoint confi and the endpoint"
      ],
      "metadata": {
        "id": "ti2fRSxtbfac"
      }
    },
    {
      "cell_type": "code",
      "source": [
        "sm_client.delete_endpoint()\n",
        "sm_client.delete_endpoint_config()\n",
        "sm_client.delete_model()"
      ],
      "metadata": {
        "id": "F2Rle7XfjJor"
      },
      "execution_count": null,
      "outputs": []
    }
  ]
}